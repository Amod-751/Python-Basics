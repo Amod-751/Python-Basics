{
 "cells": [
  {
   "cell_type": "code",
   "execution_count": 26,
   "id": "b7696e9d",
   "metadata": {},
   "outputs": [
    {
     "data": {
      "text/plain": [
       "' Python Basics\\n1.What is Python, and why is it popular?\\n\\t->Python is a high-level, interpreted programming language known for its simplicity and readability. It\\'s popular because it\\'s easy to learn, versatile (used in web development, data science, automation, etc.), has a large standard library, strong community support, and runs across platforms.\\n\\n\\n2.What is an interpreter in Python?\\n\\t->An interpreter in Python is a program that reads and executes Python code line by line, converting it into machine code at runtime.\\n\\n\\n3.What are pre-defined keywords in Python?\\n\\t->Pre-defined keywords in Python are reserved words that have special meanings and cannot be used as identifiers (like variable or function names). They define the syntax and structure of the Python language.\\nExamples include:\\nif, else, for, while,def, class, return,True, False, None,try, except, import etc.\\n\\n\\n4.Can keywords be used as variable names?\\n    ->No, keywords cannot be used as variable names because they are reserved by the programming language.\\n\\n\\n5.What is mutability in Python?\\n    ->Mutability in Python refers to whether an object’s value can be changed after it is created. Mutable objects (like lists, dictionaries, sets) can be changed, while immutable objects (like strings, tuples, integers) cannot. \\n\\n\\n6.Why are lists mutable, but tuples are immutable?\\n\\t->Lists are mutable to allow flexible data manipulation. Tuples are immutable to ensure fixed, unchangeable data, enabling safe use as dictionary keys and set elements.\\n\\n\\n7.What is the difference between “==” and “is” operators in Python?\\n\\t->== checks value equality – whether two variables have the same value.\\n\\tis checks identity – whether two variables point to the same object in memory.\\n\\n\\n8.What are logical operators in Python?\\n\\t->Logical operators in Python are used to combine conditional statements. They include:\\nand – returns True if both conditions are True\\n\\nor – returns True if at least one condition is True\\n\\nnot – returns True if the condition is False\\n\\n\\n9.What is type casting in Python?\\n    ->Type casting in Python is the process of converting one data type to another, such as from int to float or str.\\n\\n\\n10. What is the difference between implicit and explicit type casting?\\n\\t->Implicit type casting is done automatically by Python, while explicit type casting is done manually by the programmer.\\n\\n\\n11.What is the purpose of conditional statements in Python?\\n\\t->The purpose of conditional statements in Python is to control the flow of the program by executing certain blocks of code only when specific conditions are met.\\nExample:\\nif age >= 18:\\n    \\t\\tprint(\"You can vote.\")\\n\\n\\n12.How does the elif statement work?\\n\\t->The elif (short for \"else if\") statement in Python checks another condition if the previous if condition was false. It allows multiple conditions to be tested in sequence.\\nExample:\\n\\nx = 10\\nif x > 15:\\n    print(\"Greater than 15\")\\nelif x > 5:\\n    print(\"Greater than 5\")\\nelse:\\n    print(\"5 or less\")\\n\\n\\n13.What is the difference between for and while loops?\\n\\t->for loop is used when the number of iterations is known or finite (e.g., looping through a list or range).\\n      while loop is used when the number of iterations is unknown and depends on a condition.\\n\\n\\n14.Describe a scenario where a while loop is more suitable than a for loop?\\n\\t->A while loop is more suitable when the number of iterations is not known in advance and depends on a condition being met.\\nScenario Example:\\n Reading user input until they enter \"exit\":\\nuser_input = \"\"\\nwhile user_input != \"exit\":\\n    user_input = input(\"Enter something (type \\'exit\\' to quit): \")\\n\\nHere, we don\\'t know how many times the user will input data, so a while loop is ideal.'"
      ]
     },
     "execution_count": 26,
     "metadata": {},
     "output_type": "execute_result"
    }
   ],
   "source": [
    "''' Python Basics\n",
    "1.What is Python, and why is it popular?\n",
    "\t->Python is a high-level, interpreted programming language known for its simplicity and readability. It's popular because it's easy to learn, versatile (used in web development, data science, automation, etc.), has a large standard library, strong community support, and runs across platforms.\n",
    "\n",
    "\n",
    "2.What is an interpreter in Python?\n",
    "\t->An interpreter in Python is a program that reads and executes Python code line by line, converting it into machine code at runtime.\n",
    "\n",
    "\n",
    "3.What are pre-defined keywords in Python?\n",
    "\t->Pre-defined keywords in Python are reserved words that have special meanings and cannot be used as identifiers (like variable or function names). They define the syntax and structure of the Python language.\n",
    "Examples include:\n",
    "if, else, for, while,def, class, return,True, False, None,try, except, import etc.\n",
    "\n",
    "\n",
    "4.Can keywords be used as variable names?\n",
    "    ->No, keywords cannot be used as variable names because they are reserved by the programming language.\n",
    "\n",
    "\n",
    "5.What is mutability in Python?\n",
    "    ->Mutability in Python refers to whether an object’s value can be changed after it is created. Mutable objects (like lists, dictionaries, sets) can be changed, while immutable objects (like strings, tuples, integers) cannot. \n",
    "\n",
    "\n",
    "6.Why are lists mutable, but tuples are immutable?\n",
    "\t->Lists are mutable to allow flexible data manipulation. Tuples are immutable to ensure fixed, unchangeable data, enabling safe use as dictionary keys and set elements.\n",
    "\n",
    "\n",
    "7.What is the difference between “==” and “is” operators in Python?\n",
    "\t->== checks value equality – whether two variables have the same value.\n",
    "\tis checks identity – whether two variables point to the same object in memory.\n",
    "\n",
    "\n",
    "8.What are logical operators in Python?\n",
    "\t->Logical operators in Python are used to combine conditional statements. They include:\n",
    "and – returns True if both conditions are True\n",
    "\n",
    "or – returns True if at least one condition is True\n",
    "\n",
    "not – returns True if the condition is False\n",
    "\n",
    "\n",
    "9.What is type casting in Python?\n",
    "    ->Type casting in Python is the process of converting one data type to another, such as from int to float or str.\n",
    "\n",
    "\n",
    "10. What is the difference between implicit and explicit type casting?\n",
    "\t->Implicit type casting is done automatically by Python, while explicit type casting is done manually by the programmer.\n",
    "\n",
    "\n",
    "11.What is the purpose of conditional statements in Python?\n",
    "\t->The purpose of conditional statements in Python is to control the flow of the program by executing certain blocks of code only when specific conditions are met.\n",
    "Example:\n",
    "if age >= 18:\n",
    "    \t\tprint(\"You can vote.\")\n",
    "\n",
    "\n",
    "12.How does the elif statement work?\n",
    "\t->The elif (short for \"else if\") statement in Python checks another condition if the previous if condition was false. It allows multiple conditions to be tested in sequence.\n",
    "Example:\n",
    "\n",
    "x = 10\n",
    "if x > 15:\n",
    "    print(\"Greater than 15\")\n",
    "elif x > 5:\n",
    "    print(\"Greater than 5\")\n",
    "else:\n",
    "    print(\"5 or less\")\n",
    "\n",
    "\n",
    "13.What is the difference between for and while loops?\n",
    "\t->for loop is used when the number of iterations is known or finite (e.g., looping through a list or range).\n",
    "      while loop is used when the number of iterations is unknown and depends on a condition.\n",
    "\n",
    "\n",
    "14.Describe a scenario where a while loop is more suitable than a for loop?\n",
    "\t->A while loop is more suitable when the number of iterations is not known in advance and depends on a condition being met.\n",
    "Scenario Example:\n",
    " Reading user input until they enter \"exit\":\n",
    "user_input = \"\"\n",
    "while user_input != \"exit\":\n",
    "    user_input = input(\"Enter something (type 'exit' to quit): \")\n",
    "\n",
    "Here, we don't know how many times the user will input data, so a while loop is ideal.'''\n"
   ]
  },
  {
   "cell_type": "code",
   "execution_count": 4,
   "id": "30ebe9e7",
   "metadata": {},
   "outputs": [
    {
     "name": "stdout",
     "output_type": "stream",
     "text": [
      "Hello, World!\n"
     ]
    }
   ],
   "source": [
    "#1.Write a Python program to print \"Hello, World!\n",
    "print(\"Hello, World!\")\n"
   ]
  },
  {
   "cell_type": "code",
   "execution_count": 6,
   "id": "0502b722",
   "metadata": {},
   "outputs": [
    {
     "name": "stdout",
     "output_type": "stream",
     "text": [
      "My name is Amod\n",
      "I am 23 years old\n"
     ]
    }
   ],
   "source": [
    "#2.Write a Python program that displays your name and age.\n",
    "name = \"Amod\"\n",
    "age = 23\n",
    "\n",
    "print(\"My name is\", name)\n",
    "print(\"I am\", age, \"years old\")"
   ]
  },
  {
   "cell_type": "code",
   "execution_count": 7,
   "id": "22eba757",
   "metadata": {},
   "outputs": [
    {
     "name": "stdout",
     "output_type": "stream",
     "text": [
      "Python keywords are:\n",
      "['False', 'None', 'True', '__peg_parser__', 'and', 'as', 'assert', 'async', 'await', 'break', 'class', 'continue', 'def', 'del', 'elif', 'else', 'except', 'finally', 'for', 'from', 'global', 'if', 'import', 'in', 'is', 'lambda', 'nonlocal', 'not', 'or', 'pass', 'raise', 'return', 'try', 'while', 'with', 'yield']\n"
     ]
    }
   ],
   "source": [
    "#3.Write code to print all the pre-defined keywords in Python using the keyword library.\n",
    "import keyword\n",
    "\n",
    "print(\"Python keywords are:\")\n",
    "print(keyword.kwlist)"
   ]
  },
  {
   "cell_type": "code",
   "execution_count": 11,
   "id": "bd384acd",
   "metadata": {},
   "outputs": [
    {
     "name": "stdout",
     "output_type": "stream",
     "text": [
      "Enter a word: and\n",
      "'and' is a Python keyword.\n"
     ]
    }
   ],
   "source": [
    "#4. Write a program that checks if a given word is a Python keyword.\n",
    "import keyword\n",
    "\n",
    "word = input(\"Enter a word: \")\n",
    "\n",
    "if keyword.iskeyword(word):\n",
    "    print(f\"'{word}' is a Python keyword.\")\n",
    "else:\n",
    "    print(f\"'{word}' is NOT a Python keyword.\")\n"
   ]
  },
  {
   "cell_type": "code",
   "execution_count": 14,
   "id": "6e96684d",
   "metadata": {},
   "outputs": [
    {
     "ename": "TypeError",
     "evalue": "'tuple' object does not support item assignment",
     "output_type": "error",
     "traceback": [
      "\u001b[1;31m---------------------------------------------------------------------------\u001b[0m",
      "\u001b[1;31mTypeError\u001b[0m                                 Traceback (most recent call last)",
      "\u001b[1;32mC:\\Users\\AMODKU~1\\AppData\\Local\\Temp/ipykernel_14340/2674023729.py\u001b[0m in \u001b[0;36m<module>\u001b[1;34m\u001b[0m\n\u001b[0;32m      6\u001b[0m \u001b[1;31m#tuple code->\u001b[0m\u001b[1;33m\u001b[0m\u001b[1;33m\u001b[0m\u001b[0m\n\u001b[0;32m      7\u001b[0m \u001b[0mmy_tuple\u001b[0m \u001b[1;33m=\u001b[0m \u001b[1;33m(\u001b[0m\u001b[1;34m\"fruits\"\u001b[0m\u001b[1;33m,\u001b[0m \u001b[1;34m\"vegetables\"\u001b[0m\u001b[1;33m,\u001b[0m \u001b[1;36m1\u001b[0m\u001b[1;33m,\u001b[0m \u001b[1;36m4\u001b[0m\u001b[1;33m,\u001b[0m \u001b[1;32mTrue\u001b[0m\u001b[1;33m)\u001b[0m\u001b[1;33m\u001b[0m\u001b[1;33m\u001b[0m\u001b[0m\n\u001b[1;32m----> 8\u001b[1;33m \u001b[0mmy_tuple\u001b[0m\u001b[1;33m[\u001b[0m\u001b[1;36m1\u001b[0m\u001b[1;33m]\u001b[0m \u001b[1;33m=\u001b[0m \u001b[1;34m\"Milk\"\u001b[0m \u001b[1;31m# You can access elements using indexing and slicing, but you cannot modify the content\u001b[0m\u001b[1;33m\u001b[0m\u001b[1;33m\u001b[0m\u001b[0m\n\u001b[0m",
      "\u001b[1;31mTypeError\u001b[0m: 'tuple' object does not support item assignment"
     ]
    }
   ],
   "source": [
    "#5.Create a list and tuple in Python, and demonstrate how attempting to change an element works differently for each.\n",
    "shop_list = [\"Orange\", \"Banana\", \"Apple\", 5, 6, True, False]\n",
    "shop_list.append(\"Milk\") # to add new item in list\n",
    "del shop_list[1] # to delete an second item\n",
    "\n",
    "#tuple code->\n",
    "my_tuple = (\"fruits\", \"vegetables\", 1, 4, True)\n",
    "my_tuple[1] = \"Milk\" # You can access elements using indexing and slicing, but you cannot modify the content\n"
   ]
  },
  {
   "cell_type": "code",
   "execution_count": 15,
   "id": "e556c68a",
   "metadata": {},
   "outputs": [
    {
     "name": "stdout",
     "output_type": "stream",
     "text": [
      "Inside function:\n",
      "a = 6\n",
      "b = [1, 2, 3, 4]\n",
      "\n",
      "Outside function:\n",
      "x = 5\n",
      "y = [1, 2, 3, 4]\n"
     ]
    }
   ],
   "source": [
    "#6.Write a function to demonstrate the behavior of mutable and immutable arguments.\n",
    "def change_values(a, b):\n",
    "    a = a + 1         # Try to change immutable (int)\n",
    "    b.append(4)        # Change mutable (list)\n",
    "    print(\"Inside function:\")\n",
    "    print(\"a =\", a)\n",
    "    print(\"b =\", b)\n",
    "\n",
    "# Immutable variable\n",
    "x = 5\n",
    "\n",
    "# Mutable variable\n",
    "y = [1, 2, 3]\n",
    "\n",
    "change_values(x, y)\n",
    "\n",
    "print(\"\\nOutside function:\")\n",
    "print(\"x =\", x)       # x remains unchanged\n",
    "print(\"y =\", y)       # y is changed\n"
   ]
  },
  {
   "cell_type": "code",
   "execution_count": 16,
   "id": "d2c04183",
   "metadata": {},
   "outputs": [
    {
     "name": "stdout",
     "output_type": "stream",
     "text": [
      "Enter first number: 5\n",
      "Enter second number: 6\n",
      "Addition: 11.0\n",
      "Subtraction: -1.0\n",
      "Multiplication: 30.0\n",
      "Division: 0.8333333333333334\n"
     ]
    }
   ],
   "source": [
    "#7. Write a program that performs basic arithmetic operations on two user-input numbers.\n",
    "# Get input from the user\n",
    "num1 = float(input(\"Enter first number: \"))\n",
    "num2 = float(input(\"Enter second number: \"))\n",
    "\n",
    "# Perform arithmetic operations\n",
    "print(\"Addition:\", num1 + num2)\n",
    "print(\"Subtraction:\", num1 - num2)\n",
    "print(\"Multiplication:\", num1 * num2)\n",
    "\n",
    "# Check for division by zero\n",
    "if num2 != 0:\n",
    "    print(\"Division:\", num1 / num2)\n",
    "else:\n",
    "    print(\"Division: Cannot divide by zero\")\n",
    "\n",
    "\n"
   ]
  },
  {
   "cell_type": "code",
   "execution_count": 17,
   "id": "d1997e80",
   "metadata": {},
   "outputs": [
    {
     "name": "stdout",
     "output_type": "stream",
     "text": [
      "Both conditions are True\n",
      "At least one condition is True\n",
      "a is NOT less than 5\n"
     ]
    }
   ],
   "source": [
    "#8.Write a program to demonstrate the use of logical operators.\n",
    "a = 10\n",
    "b = 5\n",
    "\n",
    "# and operator\n",
    "if a > 5 and b < 10:\n",
    "    print(\"Both conditions are True\")\n",
    "\n",
    "# or operator\n",
    "if a < 5 or b < 10:\n",
    "    print(\"At least one condition is True\")\n",
    "\n",
    "# not operator\n",
    "if not a < 5:\n",
    "    print(\"a is NOT less than 5\")"
   ]
  },
  {
   "cell_type": "code",
   "execution_count": 18,
   "id": "8bc9bc18",
   "metadata": {},
   "outputs": [
    {
     "name": "stdout",
     "output_type": "stream",
     "text": [
      "Enter a value: 7\n",
      "As integer: 7\n",
      "As float: 7.0\n",
      "As boolean: True\n"
     ]
    }
   ],
   "source": [
    "#9. Write a Python program to convert user input from string to integer, float, and boolean types.\n",
    "value = input(\"Enter a value: \")\n",
    "\n",
    "# Convert to integer\n",
    "print(\"As integer:\", int(value))\n",
    "\n",
    "# Convert to float\n",
    "print(\"As float:\", float(value))\n",
    "\n",
    "# Convert to boolean\n",
    "print(\"As boolean:\", bool(value))\n"
   ]
  },
  {
   "cell_type": "code",
   "execution_count": 19,
   "id": "828e9967",
   "metadata": {},
   "outputs": [
    {
     "name": "stdout",
     "output_type": "stream",
     "text": [
      "Original list (strings): ['1', '2', '3', '4']\n",
      "After casting to integers: [1, 2, 3, 4]\n",
      "After casting to floats: [1.0, 2.0, 3.0, 4.0]\n"
     ]
    }
   ],
   "source": [
    "#10.Write code to demonstrate type casting with list elements.\n",
    "str_list = ['1', '2', '3', '4']\n",
    "# Convert each string element to integer\n",
    "int_list = [int(x) for x in str_list]\n",
    "# Convert each integer to float\n",
    "float_list = [float(x) for x in int_list]\n",
    "# Print results\n",
    "print(\"Original list (strings):\", str_list)\n",
    "print(\"After casting to integers:\", int_list)\n",
    "print(\"After casting to floats:\", float_list)\n"
   ]
  },
  {
   "cell_type": "code",
   "execution_count": 20,
   "id": "9d369b36",
   "metadata": {},
   "outputs": [
    {
     "name": "stdout",
     "output_type": "stream",
     "text": [
      "Enter a number: 9\n",
      "The number is positive.\n"
     ]
    }
   ],
   "source": [
    "#11.Write a program that checks if a number is positive, negative, or zero.\n",
    "num = float(input(\"Enter a number: \"))\n",
    "if num > 0:\n",
    "    print(\"The number is positive.\")\n",
    "elif num < 0:\n",
    "    print(\"The number is negative.\")\n",
    "else:\n",
    "    print(\"The number is zero.\")\n"
   ]
  },
  {
   "cell_type": "code",
   "execution_count": 21,
   "id": "13559509",
   "metadata": {},
   "outputs": [
    {
     "name": "stdout",
     "output_type": "stream",
     "text": [
      "1\n",
      "2\n",
      "3\n",
      "4\n",
      "5\n",
      "6\n",
      "7\n",
      "8\n",
      "9\n",
      "10\n"
     ]
    }
   ],
   "source": [
    "#12. Write a for loop to print numbers from 1 to 10.\n",
    "for i in range(1, 11):\n",
    "    print(i)\n"
   ]
  },
  {
   "cell_type": "code",
   "execution_count": 22,
   "id": "24c30cb4",
   "metadata": {},
   "outputs": [
    {
     "name": "stdout",
     "output_type": "stream",
     "text": [
      "The sum of even numbers from 1 to 50 is: 650\n"
     ]
    }
   ],
   "source": [
    "#13.Write a Python program to find the sum of all even numbers between 1 and 50.\n",
    "even_sum = 0\n",
    "for number in range(1, 51):\n",
    "    if number % 2 == 0:\n",
    "        even_sum += number\n",
    "\n",
    "print(\"The sum of even numbers from 1 to 50 is:\", even_sum)\n"
   ]
  },
  {
   "cell_type": "code",
   "execution_count": 23,
   "id": "a70b6972",
   "metadata": {},
   "outputs": [
    {
     "name": "stdout",
     "output_type": "stream",
     "text": [
      "Reversed string: olleh\n"
     ]
    }
   ],
   "source": [
    "#14. Write a program to reverse a string using a while loop.\n",
    "text = \"hello\"\n",
    "reversed_text = \"\"\n",
    "i = len(text) - 1\n",
    "\n",
    "while i >= 0:\n",
    "    reversed_text += text[i]\n",
    "    i -= 1\n",
    "\n",
    "print(\"Reversed string:\", reversed_text)\n"
   ]
  },
  {
   "cell_type": "code",
   "execution_count": 24,
   "id": "8aebf971",
   "metadata": {},
   "outputs": [
    {
     "name": "stdout",
     "output_type": "stream",
     "text": [
      "Enter a number: 5\n",
      "Factorial of 5 is 120\n"
     ]
    }
   ],
   "source": [
    "#15.Write a Python program to calculate the factorial of a number provided by the user using a while loop.\n",
    "num = int(input(\"Enter a number: \"))\n",
    "factorial = 1\n",
    "i = 1\n",
    "\n",
    "# Check for negative input\n",
    "if num < 0:\n",
    "    print(\"Factorial does not exist for negative numbers.\")\n",
    "else:\n",
    "    while i <= num:\n",
    "        factorial *= i\n",
    "        i += 1\n",
    "    print(\"Factorial of\", num, \"is\", factorial)\n"
   ]
  },
  {
   "cell_type": "code",
   "execution_count": null,
   "id": "d131fa18",
   "metadata": {},
   "outputs": [],
   "source": []
  }
 ],
 "metadata": {
  "kernelspec": {
   "display_name": "Python 3 (ipykernel)",
   "language": "python",
   "name": "python3"
  },
  "language_info": {
   "codemirror_mode": {
    "name": "ipython",
    "version": 3
   },
   "file_extension": ".py",
   "mimetype": "text/x-python",
   "name": "python",
   "nbconvert_exporter": "python",
   "pygments_lexer": "ipython3",
   "version": "3.9.7"
  }
 },
 "nbformat": 4,
 "nbformat_minor": 5
}
